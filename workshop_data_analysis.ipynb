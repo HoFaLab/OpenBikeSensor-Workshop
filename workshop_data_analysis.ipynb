{
 "cells": [
  {
   "cell_type": "markdown",
   "id": "db3ea994",
   "metadata": {},
   "source": [
    "# OpenBikeSensor Workshop\n",
    "\n",
    "## Datenanalyse mit ein bischen Code :)\n",
    "\n"
   ]
  },
  {
   "source": [
    "## Unterwegs mit dem OpenBikeSensor\n",
    "![OpenBikeSensor](img/obs.gif)"
   ],
   "cell_type": "markdown",
   "metadata": {}
  },
  {
   "source": [
    "# Importieren der Hilfsprogramme\n",
    "import keplergl   #  Karten anzeigen\n",
    "import geopandas  # Daten analysieren\n",
    "import pygeos # Daten analysieren\n",
    "import json # JSON dateien lesen und bearbeiten können\n",
    "import numpy as np\n",
    "import matplotlib.pyplot as plt\n"
   ],
   "cell_type": "code",
   "metadata": {},
   "execution_count": 2,
   "outputs": []
  },
  {
   "cell_type": "code",
   "execution_count": 3,
   "id": "ab51bc79",
   "metadata": {},
   "outputs": [],
   "source": [
    "# Zentrale Funktion zum Laden von Daten\n",
    "def lade_daten(dateiname) -> geopandas.GeoDataFrame:\n",
    "    with open(dateiname, \"r\") as f:\n",
    "        geojson = json.load(f)\n",
    "    \n",
    "    spalten = [\"geometry\"]\n",
    "\n",
    "    #add all properties to gdf cols\n",
    "    for property_key in geojson[\"features\"][0][\"properties\"].keys():\n",
    "        spalten.append(property_key)\n",
    "\n",
    "    gdf = geopandas.GeoDataFrame.from_features(geojson[\"features\"], crs=\"EPSG:4326\", columns=spalten)\n",
    "    # gdf = gdf.to_crs(\"EPSG:25832\")  # reproject to utm coords\n",
    "\n",
    "    return gdf\n",
    "\n"
   ]
  },
  {
   "cell_type": "code",
   "execution_count": 4,
   "id": "42a7dfe6",
   "metadata": {},
   "outputs": [
    {
     "output_type": "stream",
     "name": "stdout",
     "text": [
      "User Guide: https://docs.kepler.gl/docs/keplergl-jupyter\n"
     ]
    },
    {
     "output_type": "display_data",
     "data": {
      "text/plain": "KeplerGl(data={'OBS Messdaten': {'index': [0, 1, 2, 3, 4, 5, 6, 7, 8, 9, 10, 11, 12, 13, 14, 15, 16, 17, 18, 1…",
      "application/vnd.jupyter.widget-view+json": {
       "version_major": 2,
       "version_minor": 0,
       "model_id": "dc27a325891744bfa76ce14ed7449c90"
      }
     },
     "metadata": {}
    }
   ],
   "source": [
    "# Laden der OpenBikeSensor Messungen\n",
    "obs_messdaten = lade_daten(\"wilhelmsburg_data/obs_messdaten_wilhelmsburg.json\")\n",
    "\n",
    "# Anzeigen der Daten auf einer Karte\n",
    "karte_1=keplergl.KeplerGl(height=400)\n",
    "karte_1.add_data(data=obs_messdaten, name=\"OBS Messdaten\")  # todo config einfügen.\n",
    "karte_1 # Karte starten"
   ]
  },
  {
   "source": [
    "## Verkehrsflächen laden\n",
    "### Wir laden die Kartendaten für Fahrbahnen, Parkplätze, Radwege und Gehwege\n",
    " \n",
    "![Uebersicht alle Verkehrsflächen](img/verkehrsflaechen.png) "
   ],
   "cell_type": "markdown",
   "metadata": {}
  },
  {
   "source": [
    "\n",
    "# Fahrbahnen Autos laden\n",
    "fahrbahn = lade_daten(\"wilhelmsburg_data/Fahrbahn.json\")\n",
    "\n",
    "# Datensatz mit Parkplätzen für ganz Hamburg laden\n",
    "# TODO vogelhüttendeich mit rein\n",
    "parkplatz = lade_daten(\"wilhelmsburg_data/Parkplatz.json\")\n",
    "\n",
    "# Radwege laden\n",
    "radwege = lade_daten(\"wilhelmsburg_data/Radweg.json\")\n",
    "\n",
    "# Gehwege laden\n",
    "gehwege = lade_daten(\"wilhelmsburg_data/Gehweg.json\")\n",
    "\n",
    "\n",
    "\n"
   ],
   "cell_type": "code",
   "metadata": {},
   "execution_count": 5,
   "outputs": []
  },
  {
   "cell_type": "code",
   "execution_count": 6,
   "id": "01c2593d",
   "metadata": {},
   "outputs": [
    {
     "output_type": "display_data",
     "data": {
      "text/plain": "<Figure size 432x288 with 1 Axes>",
      "image/svg+xml": "<?xml version=\"1.0\" encoding=\"utf-8\" standalone=\"no\"?>\n<!DOCTYPE svg PUBLIC \"-//W3C//DTD SVG 1.1//EN\"\n  \"http://www.w3.org/Graphics/SVG/1.1/DTD/svg11.dtd\">\n<svg height=\"246.958125pt\" version=\"1.1\" viewBox=\"0 0 263.624644 246.958125\" width=\"263.624644pt\" xmlns=\"http://www.w3.org/2000/svg\" xmlns:xlink=\"http://www.w3.org/1999/xlink\">\n <metadata>\n  <rdf:RDF xmlns:cc=\"http://creativecommons.org/ns#\" xmlns:dc=\"http://purl.org/dc/elements/1.1/\" xmlns:rdf=\"http://www.w3.org/1999/02/22-rdf-syntax-ns#\">\n   <cc:Work>\n    <dc:type rdf:resource=\"http://purl.org/dc/dcmitype/StillImage\"/>\n    <dc:date>2021-10-22T13:30:46.777952</dc:date>\n    <dc:format>image/svg+xml</dc:format>\n    <dc:creator>\n     <cc:Agent>\n      <dc:title>Matplotlib v3.4.3, https://matplotlib.org/</dc:title>\n     </cc:Agent>\n    </dc:creator>\n   </cc:Work>\n  </rdf:RDF>\n </metadata>\n <defs>\n  <style type=\"text/css\">*{stroke-linecap:butt;stroke-linejoin:round;}</style>\n </defs>\n <g id=\"figure_1\">\n  <g id=\"patch_1\">\n   <path d=\"M 0 246.958125 \nL 263.624644 246.958125 \nL 263.624644 0 \nL 0 0 \nz\n\" style=\"fill:none;\"/>\n  </g>\n  <g id=\"axes_1\">\n   <g id=\"patch_2\">\n    <path d=\"M 202.896 131.038125 \nC 202.896 116.472974 199.237342 102.138493 192.257008 89.354966 \nC 185.276674 76.571439 175.195762 65.743774 162.942777 57.869259 \nC 150.689792 49.994743 136.65284 45.322796 122.124799 44.28373 \nC 107.596758 43.244664 93.037794 45.871389 79.788867 51.921971 \nC 66.539939 57.972553 55.020698 67.255344 46.292127 78.915348 \nC 37.563557 90.575352 31.902129 104.243246 29.829291 118.660145 \nC 27.756453 133.077044 29.337861 147.786302 34.427859 161.433117 \nC 39.517857 175.079931 47.955222 187.23205 58.962828 196.770196 \nL 115.92 131.038125 \nL 202.896 131.038125 \nz\n\" style=\"fill:#ff0000;\"/>\n   </g>\n   <g id=\"patch_3\">\n    <path d=\"M 58.962828 196.770196 \nC 63.137762 200.387798 67.647872 203.599433 72.431995 206.361548 \nC 77.216118 209.123663 82.252531 211.423716 87.472932 213.230515 \nL 115.92 131.038125 \nL 58.962828 196.770196 \nz\n\" style=\"fill:#800080;\"/>\n   </g>\n   <g id=\"patch_4\">\n    <path d=\"M 87.472932 213.230515 \nC 98.376066 217.004126 109.921884 218.57078 121.436352 217.839015 \nC 132.950821 217.107249 144.205425 214.091588 154.54313 208.968083 \nC 164.880836 203.844578 174.096482 196.714909 181.652068 187.9953 \nC 189.207655 179.275691 194.953233 169.13919 198.553382 158.177557 \nL 115.92 131.038125 \nL 87.472932 213.230515 \nz\n\" style=\"fill:#008000;\"/>\n   </g>\n   <g id=\"patch_5\">\n    <path d=\"M 198.553382 158.177557 \nC 199.989505 153.804889 201.076286 149.325118 201.803483 144.780466 \nC 202.530679 140.235814 202.895999 135.640602 202.896 131.038137 \nL 115.92 131.038125 \nL 198.553382 158.177557 \nz\n\" style=\"fill:#90ee90;\"/>\n   </g>\n   <g id=\"matplotlib.axis_1\"/>\n   <g id=\"matplotlib.axis_2\"/>\n   <g id=\"text_1\">\n    <!-- Fahrbahn -->\n    <g transform=\"translate(29.608566 46.769731)scale(0.1 -0.1)\">\n     <defs>\n      <path d=\"M 628 4666 \nL 3309 4666 \nL 3309 4134 \nL 1259 4134 \nL 1259 2759 \nL 3109 2759 \nL 3109 2228 \nL 1259 2228 \nL 1259 0 \nL 628 0 \nL 628 4666 \nz\n\" id=\"DejaVuSans-46\" transform=\"scale(0.015625)\"/>\n      <path d=\"M 2194 1759 \nQ 1497 1759 1228 1600 \nQ 959 1441 959 1056 \nQ 959 750 1161 570 \nQ 1363 391 1709 391 \nQ 2188 391 2477 730 \nQ 2766 1069 2766 1631 \nL 2766 1759 \nL 2194 1759 \nz\nM 3341 1997 \nL 3341 0 \nL 2766 0 \nL 2766 531 \nQ 2569 213 2275 61 \nQ 1981 -91 1556 -91 \nQ 1019 -91 701 211 \nQ 384 513 384 1019 \nQ 384 1609 779 1909 \nQ 1175 2209 1959 2209 \nL 2766 2209 \nL 2766 2266 \nQ 2766 2663 2505 2880 \nQ 2244 3097 1772 3097 \nQ 1472 3097 1187 3025 \nQ 903 2953 641 2809 \nL 641 3341 \nQ 956 3463 1253 3523 \nQ 1550 3584 1831 3584 \nQ 2591 3584 2966 3190 \nQ 3341 2797 3341 1997 \nz\n\" id=\"DejaVuSans-61\" transform=\"scale(0.015625)\"/>\n      <path d=\"M 3513 2113 \nL 3513 0 \nL 2938 0 \nL 2938 2094 \nQ 2938 2591 2744 2837 \nQ 2550 3084 2163 3084 \nQ 1697 3084 1428 2787 \nQ 1159 2491 1159 1978 \nL 1159 0 \nL 581 0 \nL 581 4863 \nL 1159 4863 \nL 1159 2956 \nQ 1366 3272 1645 3428 \nQ 1925 3584 2291 3584 \nQ 2894 3584 3203 3211 \nQ 3513 2838 3513 2113 \nz\n\" id=\"DejaVuSans-68\" transform=\"scale(0.015625)\"/>\n      <path d=\"M 2631 2963 \nQ 2534 3019 2420 3045 \nQ 2306 3072 2169 3072 \nQ 1681 3072 1420 2755 \nQ 1159 2438 1159 1844 \nL 1159 0 \nL 581 0 \nL 581 3500 \nL 1159 3500 \nL 1159 2956 \nQ 1341 3275 1631 3429 \nQ 1922 3584 2338 3584 \nQ 2397 3584 2469 3576 \nQ 2541 3569 2628 3553 \nL 2631 2963 \nz\n\" id=\"DejaVuSans-72\" transform=\"scale(0.015625)\"/>\n      <path d=\"M 3116 1747 \nQ 3116 2381 2855 2742 \nQ 2594 3103 2138 3103 \nQ 1681 3103 1420 2742 \nQ 1159 2381 1159 1747 \nQ 1159 1113 1420 752 \nQ 1681 391 2138 391 \nQ 2594 391 2855 752 \nQ 3116 1113 3116 1747 \nz\nM 1159 2969 \nQ 1341 3281 1617 3432 \nQ 1894 3584 2278 3584 \nQ 2916 3584 3314 3078 \nQ 3713 2572 3713 1747 \nQ 3713 922 3314 415 \nQ 2916 -91 2278 -91 \nQ 1894 -91 1617 61 \nQ 1341 213 1159 525 \nL 1159 0 \nL 581 0 \nL 581 4863 \nL 1159 4863 \nL 1159 2969 \nz\n\" id=\"DejaVuSans-62\" transform=\"scale(0.015625)\"/>\n      <path d=\"M 3513 2113 \nL 3513 0 \nL 2938 0 \nL 2938 2094 \nQ 2938 2591 2744 2837 \nQ 2550 3084 2163 3084 \nQ 1697 3084 1428 2787 \nQ 1159 2491 1159 1978 \nL 1159 0 \nL 581 0 \nL 581 3500 \nL 1159 3500 \nL 1159 2956 \nQ 1366 3272 1645 3428 \nQ 1925 3584 2291 3584 \nQ 2894 3584 3203 3211 \nQ 3513 2838 3513 2113 \nz\n\" id=\"DejaVuSans-6e\" transform=\"scale(0.015625)\"/>\n     </defs>\n     <use xlink:href=\"#DejaVuSans-46\"/>\n     <use x=\"48.394531\" xlink:href=\"#DejaVuSans-61\"/>\n     <use x=\"109.673828\" xlink:href=\"#DejaVuSans-68\"/>\n     <use x=\"173.052734\" xlink:href=\"#DejaVuSans-72\"/>\n     <use x=\"214.166016\" xlink:href=\"#DejaVuSans-62\"/>\n     <use x=\"277.642578\" xlink:href=\"#DejaVuSans-61\"/>\n     <use x=\"338.921875\" xlink:href=\"#DejaVuSans-68\"/>\n     <use x=\"402.300781\" xlink:href=\"#DejaVuSans-6e\"/>\n    </g>\n   </g>\n   <g id=\"text_2\">\n    <!-- Parkplatz -->\n    <g transform=\"translate(22.050382 216.653265)scale(0.1 -0.1)\">\n     <defs>\n      <path d=\"M 1259 4147 \nL 1259 2394 \nL 2053 2394 \nQ 2494 2394 2734 2622 \nQ 2975 2850 2975 3272 \nQ 2975 3691 2734 3919 \nQ 2494 4147 2053 4147 \nL 1259 4147 \nz\nM 628 4666 \nL 2053 4666 \nQ 2838 4666 3239 4311 \nQ 3641 3956 3641 3272 \nQ 3641 2581 3239 2228 \nQ 2838 1875 2053 1875 \nL 1259 1875 \nL 1259 0 \nL 628 0 \nL 628 4666 \nz\n\" id=\"DejaVuSans-50\" transform=\"scale(0.015625)\"/>\n      <path d=\"M 581 4863 \nL 1159 4863 \nL 1159 1991 \nL 2875 3500 \nL 3609 3500 \nL 1753 1863 \nL 3688 0 \nL 2938 0 \nL 1159 1709 \nL 1159 0 \nL 581 0 \nL 581 4863 \nz\n\" id=\"DejaVuSans-6b\" transform=\"scale(0.015625)\"/>\n      <path d=\"M 1159 525 \nL 1159 -1331 \nL 581 -1331 \nL 581 3500 \nL 1159 3500 \nL 1159 2969 \nQ 1341 3281 1617 3432 \nQ 1894 3584 2278 3584 \nQ 2916 3584 3314 3078 \nQ 3713 2572 3713 1747 \nQ 3713 922 3314 415 \nQ 2916 -91 2278 -91 \nQ 1894 -91 1617 61 \nQ 1341 213 1159 525 \nz\nM 3116 1747 \nQ 3116 2381 2855 2742 \nQ 2594 3103 2138 3103 \nQ 1681 3103 1420 2742 \nQ 1159 2381 1159 1747 \nQ 1159 1113 1420 752 \nQ 1681 391 2138 391 \nQ 2594 391 2855 752 \nQ 3116 1113 3116 1747 \nz\n\" id=\"DejaVuSans-70\" transform=\"scale(0.015625)\"/>\n      <path d=\"M 603 4863 \nL 1178 4863 \nL 1178 0 \nL 603 0 \nL 603 4863 \nz\n\" id=\"DejaVuSans-6c\" transform=\"scale(0.015625)\"/>\n      <path d=\"M 1172 4494 \nL 1172 3500 \nL 2356 3500 \nL 2356 3053 \nL 1172 3053 \nL 1172 1153 \nQ 1172 725 1289 603 \nQ 1406 481 1766 481 \nL 2356 481 \nL 2356 0 \nL 1766 0 \nQ 1100 0 847 248 \nQ 594 497 594 1153 \nL 594 3053 \nL 172 3053 \nL 172 3500 \nL 594 3500 \nL 594 4494 \nL 1172 4494 \nz\n\" id=\"DejaVuSans-74\" transform=\"scale(0.015625)\"/>\n      <path d=\"M 353 3500 \nL 3084 3500 \nL 3084 2975 \nL 922 459 \nL 3084 459 \nL 3084 0 \nL 275 0 \nL 275 525 \nL 2438 3041 \nL 353 3041 \nL 353 3500 \nz\n\" id=\"DejaVuSans-7a\" transform=\"scale(0.015625)\"/>\n     </defs>\n     <use xlink:href=\"#DejaVuSans-50\"/>\n     <use x=\"55.802734\" xlink:href=\"#DejaVuSans-61\"/>\n     <use x=\"117.082031\" xlink:href=\"#DejaVuSans-72\"/>\n     <use x=\"158.195312\" xlink:href=\"#DejaVuSans-6b\"/>\n     <use x=\"216.105469\" xlink:href=\"#DejaVuSans-70\"/>\n     <use x=\"279.582031\" xlink:href=\"#DejaVuSans-6c\"/>\n     <use x=\"307.365234\" xlink:href=\"#DejaVuSans-61\"/>\n     <use x=\"368.644531\" xlink:href=\"#DejaVuSans-74\"/>\n     <use x=\"407.853516\" xlink:href=\"#DejaVuSans-7a\"/>\n    </g>\n   </g>\n   <g id=\"text_3\">\n    <!-- Gehwege -->\n    <g transform=\"translate(158.405443 219.520454)scale(0.1 -0.1)\">\n     <defs>\n      <path d=\"M 3809 666 \nL 3809 1919 \nL 2778 1919 \nL 2778 2438 \nL 4434 2438 \nL 4434 434 \nQ 4069 175 3628 42 \nQ 3188 -91 2688 -91 \nQ 1594 -91 976 548 \nQ 359 1188 359 2328 \nQ 359 3472 976 4111 \nQ 1594 4750 2688 4750 \nQ 3144 4750 3555 4637 \nQ 3966 4525 4313 4306 \nL 4313 3634 \nQ 3963 3931 3569 4081 \nQ 3175 4231 2741 4231 \nQ 1884 4231 1454 3753 \nQ 1025 3275 1025 2328 \nQ 1025 1384 1454 906 \nQ 1884 428 2741 428 \nQ 3075 428 3337 486 \nQ 3600 544 3809 666 \nz\n\" id=\"DejaVuSans-47\" transform=\"scale(0.015625)\"/>\n      <path d=\"M 3597 1894 \nL 3597 1613 \nL 953 1613 \nQ 991 1019 1311 708 \nQ 1631 397 2203 397 \nQ 2534 397 2845 478 \nQ 3156 559 3463 722 \nL 3463 178 \nQ 3153 47 2828 -22 \nQ 2503 -91 2169 -91 \nQ 1331 -91 842 396 \nQ 353 884 353 1716 \nQ 353 2575 817 3079 \nQ 1281 3584 2069 3584 \nQ 2775 3584 3186 3129 \nQ 3597 2675 3597 1894 \nz\nM 3022 2063 \nQ 3016 2534 2758 2815 \nQ 2500 3097 2075 3097 \nQ 1594 3097 1305 2825 \nQ 1016 2553 972 2059 \nL 3022 2063 \nz\n\" id=\"DejaVuSans-65\" transform=\"scale(0.015625)\"/>\n      <path d=\"M 269 3500 \nL 844 3500 \nL 1563 769 \nL 2278 3500 \nL 2956 3500 \nL 3675 769 \nL 4391 3500 \nL 4966 3500 \nL 4050 0 \nL 3372 0 \nL 2619 2869 \nL 1863 0 \nL 1184 0 \nL 269 3500 \nz\n\" id=\"DejaVuSans-77\" transform=\"scale(0.015625)\"/>\n      <path d=\"M 2906 1791 \nQ 2906 2416 2648 2759 \nQ 2391 3103 1925 3103 \nQ 1463 3103 1205 2759 \nQ 947 2416 947 1791 \nQ 947 1169 1205 825 \nQ 1463 481 1925 481 \nQ 2391 481 2648 825 \nQ 2906 1169 2906 1791 \nz\nM 3481 434 \nQ 3481 -459 3084 -895 \nQ 2688 -1331 1869 -1331 \nQ 1566 -1331 1297 -1286 \nQ 1028 -1241 775 -1147 \nL 775 -588 \nQ 1028 -725 1275 -790 \nQ 1522 -856 1778 -856 \nQ 2344 -856 2625 -561 \nQ 2906 -266 2906 331 \nL 2906 616 \nQ 2728 306 2450 153 \nQ 2172 0 1784 0 \nQ 1141 0 747 490 \nQ 353 981 353 1791 \nQ 353 2603 747 3093 \nQ 1141 3584 1784 3584 \nQ 2172 3584 2450 3431 \nQ 2728 3278 2906 2969 \nL 2906 3500 \nL 3481 3500 \nL 3481 434 \nz\n\" id=\"DejaVuSans-67\" transform=\"scale(0.015625)\"/>\n     </defs>\n     <use xlink:href=\"#DejaVuSans-47\"/>\n     <use x=\"77.490234\" xlink:href=\"#DejaVuSans-65\"/>\n     <use x=\"139.013672\" xlink:href=\"#DejaVuSans-68\"/>\n     <use x=\"202.392578\" xlink:href=\"#DejaVuSans-77\"/>\n     <use x=\"284.179688\" xlink:href=\"#DejaVuSans-65\"/>\n     <use x=\"345.703125\" xlink:href=\"#DejaVuSans-67\"/>\n     <use x=\"409.179688\" xlink:href=\"#DejaVuSans-65\"/>\n    </g>\n   </g>\n   <g id=\"text_4\">\n    <!-- Radwege -->\n    <g transform=\"translate(210.391831 148.914075)scale(0.1 -0.1)\">\n     <defs>\n      <path d=\"M 2841 2188 \nQ 3044 2119 3236 1894 \nQ 3428 1669 3622 1275 \nL 4263 0 \nL 3584 0 \nL 2988 1197 \nQ 2756 1666 2539 1819 \nQ 2322 1972 1947 1972 \nL 1259 1972 \nL 1259 0 \nL 628 0 \nL 628 4666 \nL 2053 4666 \nQ 2853 4666 3247 4331 \nQ 3641 3997 3641 3322 \nQ 3641 2881 3436 2590 \nQ 3231 2300 2841 2188 \nz\nM 1259 4147 \nL 1259 2491 \nL 2053 2491 \nQ 2509 2491 2742 2702 \nQ 2975 2913 2975 3322 \nQ 2975 3731 2742 3939 \nQ 2509 4147 2053 4147 \nL 1259 4147 \nz\n\" id=\"DejaVuSans-52\" transform=\"scale(0.015625)\"/>\n      <path d=\"M 2906 2969 \nL 2906 4863 \nL 3481 4863 \nL 3481 0 \nL 2906 0 \nL 2906 525 \nQ 2725 213 2448 61 \nQ 2172 -91 1784 -91 \nQ 1150 -91 751 415 \nQ 353 922 353 1747 \nQ 353 2572 751 3078 \nQ 1150 3584 1784 3584 \nQ 2172 3584 2448 3432 \nQ 2725 3281 2906 2969 \nz\nM 947 1747 \nQ 947 1113 1208 752 \nQ 1469 391 1925 391 \nQ 2381 391 2643 752 \nQ 2906 1113 2906 1747 \nQ 2906 2381 2643 2742 \nQ 2381 3103 1925 3103 \nQ 1469 3103 1208 2742 \nQ 947 2381 947 1747 \nz\n\" id=\"DejaVuSans-64\" transform=\"scale(0.015625)\"/>\n     </defs>\n     <use xlink:href=\"#DejaVuSans-52\"/>\n     <use x=\"67.232422\" xlink:href=\"#DejaVuSans-61\"/>\n     <use x=\"128.511719\" xlink:href=\"#DejaVuSans-64\"/>\n     <use x=\"191.988281\" xlink:href=\"#DejaVuSans-77\"/>\n     <use x=\"273.775391\" xlink:href=\"#DejaVuSans-65\"/>\n     <use x=\"335.298828\" xlink:href=\"#DejaVuSans-67\"/>\n     <use x=\"398.775391\" xlink:href=\"#DejaVuSans-65\"/>\n    </g>\n   </g>\n   <g id=\"text_5\">\n    <!-- Flächenverteilung -->\n    <g transform=\"translate(62.027813 16.318125)scale(0.12 -0.12)\">\n     <defs>\n      <path d=\"M 2194 1759 \nQ 1497 1759 1228 1600 \nQ 959 1441 959 1056 \nQ 959 750 1161 570 \nQ 1363 391 1709 391 \nQ 2188 391 2477 730 \nQ 2766 1069 2766 1631 \nL 2766 1759 \nL 2194 1759 \nz\nM 3341 1997 \nL 3341 0 \nL 2766 0 \nL 2766 531 \nQ 2569 213 2275 61 \nQ 1981 -91 1556 -91 \nQ 1019 -91 701 211 \nQ 384 513 384 1019 \nQ 384 1609 779 1909 \nQ 1175 2209 1959 2209 \nL 2766 2209 \nL 2766 2266 \nQ 2766 2663 2505 2880 \nQ 2244 3097 1772 3097 \nQ 1472 3097 1187 3025 \nQ 903 2953 641 2809 \nL 641 3341 \nQ 956 3463 1253 3523 \nQ 1550 3584 1831 3584 \nQ 2591 3584 2966 3190 \nQ 3341 2797 3341 1997 \nz\nM 2150 4850 \nL 2784 4850 \nL 2784 4219 \nL 2150 4219 \nL 2150 4850 \nz\nM 928 4850 \nL 1562 4850 \nL 1562 4219 \nL 928 4219 \nL 928 4850 \nz\n\" id=\"DejaVuSans-e4\" transform=\"scale(0.015625)\"/>\n      <path d=\"M 3122 3366 \nL 3122 2828 \nQ 2878 2963 2633 3030 \nQ 2388 3097 2138 3097 \nQ 1578 3097 1268 2742 \nQ 959 2388 959 1747 \nQ 959 1106 1268 751 \nQ 1578 397 2138 397 \nQ 2388 397 2633 464 \nQ 2878 531 3122 666 \nL 3122 134 \nQ 2881 22 2623 -34 \nQ 2366 -91 2075 -91 \nQ 1284 -91 818 406 \nQ 353 903 353 1747 \nQ 353 2603 823 3093 \nQ 1294 3584 2113 3584 \nQ 2378 3584 2631 3529 \nQ 2884 3475 3122 3366 \nz\n\" id=\"DejaVuSans-63\" transform=\"scale(0.015625)\"/>\n      <path d=\"M 191 3500 \nL 800 3500 \nL 1894 563 \nL 2988 3500 \nL 3597 3500 \nL 2284 0 \nL 1503 0 \nL 191 3500 \nz\n\" id=\"DejaVuSans-76\" transform=\"scale(0.015625)\"/>\n      <path d=\"M 603 3500 \nL 1178 3500 \nL 1178 0 \nL 603 0 \nL 603 3500 \nz\nM 603 4863 \nL 1178 4863 \nL 1178 4134 \nL 603 4134 \nL 603 4863 \nz\n\" id=\"DejaVuSans-69\" transform=\"scale(0.015625)\"/>\n      <path d=\"M 544 1381 \nL 544 3500 \nL 1119 3500 \nL 1119 1403 \nQ 1119 906 1312 657 \nQ 1506 409 1894 409 \nQ 2359 409 2629 706 \nQ 2900 1003 2900 1516 \nL 2900 3500 \nL 3475 3500 \nL 3475 0 \nL 2900 0 \nL 2900 538 \nQ 2691 219 2414 64 \nQ 2138 -91 1772 -91 \nQ 1169 -91 856 284 \nQ 544 659 544 1381 \nz\nM 1991 3584 \nL 1991 3584 \nz\n\" id=\"DejaVuSans-75\" transform=\"scale(0.015625)\"/>\n     </defs>\n     <use xlink:href=\"#DejaVuSans-46\"/>\n     <use x=\"57.519531\" xlink:href=\"#DejaVuSans-6c\"/>\n     <use x=\"85.302734\" xlink:href=\"#DejaVuSans-e4\"/>\n     <use x=\"146.582031\" xlink:href=\"#DejaVuSans-63\"/>\n     <use x=\"201.5625\" xlink:href=\"#DejaVuSans-68\"/>\n     <use x=\"264.941406\" xlink:href=\"#DejaVuSans-65\"/>\n     <use x=\"326.464844\" xlink:href=\"#DejaVuSans-6e\"/>\n     <use x=\"389.84375\" xlink:href=\"#DejaVuSans-76\"/>\n     <use x=\"449.023438\" xlink:href=\"#DejaVuSans-65\"/>\n     <use x=\"510.546875\" xlink:href=\"#DejaVuSans-72\"/>\n     <use x=\"551.660156\" xlink:href=\"#DejaVuSans-74\"/>\n     <use x=\"590.869141\" xlink:href=\"#DejaVuSans-65\"/>\n     <use x=\"652.392578\" xlink:href=\"#DejaVuSans-69\"/>\n     <use x=\"680.175781\" xlink:href=\"#DejaVuSans-6c\"/>\n     <use x=\"707.958984\" xlink:href=\"#DejaVuSans-75\"/>\n     <use x=\"771.337891\" xlink:href=\"#DejaVuSans-6e\"/>\n     <use x=\"834.716797\" xlink:href=\"#DejaVuSans-67\"/>\n    </g>\n   </g>\n  </g>\n </g>\n</svg>\n",
      "image/png": "[encoded data removed]"
     },
     "metadata": {}
    }
   ],
   "source": [
    "# Frage: Wie sind die Flächen für Gehwege, Fahrräder und Autos verteilt? \n",
    "def flaeche_in_qm_berechnen(datensatz):\n",
    "    datensatz_metrisch = datensatz.to_crs(\"EPSG:25832\")  # als metrische Koordinaten speichern\n",
    "      \n",
    "    return datensatz_metrisch.area.sum()\n",
    "\n",
    "\n",
    "fahrbahn_flaeche = flaeche_in_qm_berechnen(fahrbahn)\n",
    "parkplatz_flaeche = flaeche_in_qm_berechnen(parkplatz)\n",
    "radwege_flaeche = flaeche_in_qm_berechnen(radwege)\n",
    "gehwege_flaeche = flaeche_in_qm_berechnen(gehwege)\n",
    "gesamt_flaeche = fahrbahn_flaeche + parkplatz_flaeche + radwege_flaeche + gehwege_flaeche\n",
    "\n",
    "fahrbahn_prozent =  round((fahrbahn_flaeche / gesamt_flaeche) * 100)\n",
    "parkplatz_prozent = round((parkplatz_flaeche / gesamt_flaeche) * 100)\n",
    "gehwege_prozent = round((gehwege_flaeche / gesamt_flaeche) * 100)\n",
    "radwege_prozent = round((radwege_flaeche / gesamt_flaeche) * 100)\n",
    "\n",
    "# create dataset\n",
    "bars = ('Fahrbahn', 'Parkplatz', 'Gehwege', 'Radwege')\n",
    "werte = [fahrbahn_prozent, parkplatz_prozent, gehwege_prozent, radwege_prozent]\n",
    " \n",
    "# Create bars and choose color\n",
    "plt.pie(werte, labels=bars, colors=['red', 'purple', 'green', 'lightgreen'])\n",
    " \n",
    "# Add title and axis names\n",
    "plt.title('Flächenverteilung')\n",
    " \n",
    "# Show graph\n",
    "plt.show()\n",
    "\n"
   ]
  },
  {
   "source": [
    "## In der Praxis sieht das dann so aus\n",
    "![Parkplatzsuche](img/cars2.gif)\n"
   ],
   "cell_type": "markdown",
   "metadata": {}
  },
  {
   "source": [
    "## Was würde sich ändern, wenn die Flächenverteilung umgekehrt aussehe?\n",
    "![bikes](img/bikes.gif)"
   ],
   "cell_type": "markdown",
   "metadata": {}
  },
  {
   "cell_type": "code",
   "execution_count": 8,
   "id": "83cfa33c",
   "metadata": {},
   "outputs": [
    {
     "output_type": "stream",
     "name": "stdout",
     "text": [
      "So viele Überholungen waren zu eng 74\nSo viele Überholungen gab es insgesamt 95\nSo viele Überholungen waren nicht zu eng 21\nDer Überholabstand im Durchschnitt 1.16 meter\n"
     ]
    },
    {
     "output_type": "display_data",
     "data": {
      "text/plain": "<Figure size 432x288 with 1 Axes>",
      "image/svg+xml": "<?xml version=\"1.0\" encoding=\"utf-8\" standalone=\"no\"?>\n<!DOCTYPE svg PUBLIC \"-//W3C//DTD SVG 1.1//EN\"\n  \"http://www.w3.org/Graphics/SVG/1.1/DTD/svg11.dtd\">\n<svg height=\"279.1275pt\" version=\"1.1\" viewBox=\"0 0 382.603125 279.1275\" width=\"382.603125pt\" xmlns=\"http://www.w3.org/2000/svg\" xmlns:xlink=\"http://www.w3.org/1999/xlink\">\n <metadata>\n  <rdf:RDF xmlns:cc=\"http://creativecommons.org/ns#\" xmlns:dc=\"http://purl.org/dc/elements/1.1/\" xmlns:rdf=\"http://www.w3.org/1999/02/22-rdf-syntax-ns#\">\n   <cc:Work>\n    <dc:type rdf:resource=\"http://purl.org/dc/dcmitype/StillImage\"/>\n    <dc:date>2021-10-22T13:30:47.547407</dc:date>\n    <dc:format>image/svg+xml</dc:format>\n    <dc:creator>\n     <cc:Agent>\n      <dc:title>Matplotlib v3.4.3, https://matplotlib.org/</dc:title>\n     </cc:Agent>\n    </dc:creator>\n   </cc:Work>\n  </rdf:RDF>\n </metadata>\n <defs>\n  <style type=\"text/css\">*{stroke-linecap:butt;stroke-linejoin:round;}</style>\n </defs>\n <g id=\"figure_1\">\n  <g id=\"patch_1\">\n   <path d=\"M 0 279.1275 \nL 382.603125 279.1275 \nL 382.603125 0 \nL 0 0 \nz\n\" style=\"fill:none;\"/>\n  </g>\n  <g id=\"axes_1\">\n   <g id=\"patch_2\">\n    <path d=\"M 40.603125 241.57125 \nL 375.403125 241.57125 \nL 375.403125 24.13125 \nL 40.603125 24.13125 \nz\n\" style=\"fill:#ffffff;\"/>\n   </g>\n   <g id=\"patch_3\">\n    <path clip-path=\"url(#p25b93109e4)\" d=\"M 55.821307 241.57125 \nL 191.094034 241.57125 \nL 191.094034 182.803682 \nL 55.821307 182.803682 \nz\n\" style=\"fill:#801a80;fill-opacity:0.6;\"/>\n   </g>\n   <g id=\"patch_4\">\n    <path clip-path=\"url(#p25b93109e4)\" d=\"M 224.912216 241.57125 \nL 360.184943 241.57125 \nL 360.184943 34.485536 \nL 224.912216 34.485536 \nz\n\" style=\"fill:#801a80;fill-opacity:0.6;\"/>\n   </g>\n   <g id=\"matplotlib.axis_1\">\n    <g id=\"xtick_1\">\n     <g id=\"line2d_1\">\n      <defs>\n       <path d=\"M 0 0 \nL 0 3.5 \n\" id=\"m4199580dd8\" style=\"stroke:#000000;stroke-width:0.8;\"/>\n      </defs>\n      <g>\n       <use style=\"stroke:#000000;stroke-width:0.8;\" x=\"123.45767\" xlink:href=\"#m4199580dd8\" y=\"241.57125\"/>\n      </g>\n     </g>\n     <g id=\"text_1\">\n      <!-- OK -->\n      <g transform=\"translate(116.242827 256.169687)scale(0.1 -0.1)\">\n       <defs>\n        <path d=\"M 2522 4238 \nQ 1834 4238 1429 3725 \nQ 1025 3213 1025 2328 \nQ 1025 1447 1429 934 \nQ 1834 422 2522 422 \nQ 3209 422 3611 934 \nQ 4013 1447 4013 2328 \nQ 4013 3213 3611 3725 \nQ 3209 4238 2522 4238 \nz\nM 2522 4750 \nQ 3503 4750 4090 4092 \nQ 4678 3434 4678 2328 \nQ 4678 1225 4090 567 \nQ 3503 -91 2522 -91 \nQ 1538 -91 948 565 \nQ 359 1222 359 2328 \nQ 359 3434 948 4092 \nQ 1538 4750 2522 4750 \nz\n\" id=\"DejaVuSans-4f\" transform=\"scale(0.015625)\"/>\n        <path d=\"M 628 4666 \nL 1259 4666 \nL 1259 2694 \nL 3353 4666 \nL 4166 4666 \nL 1850 2491 \nL 4331 0 \nL 3500 0 \nL 1259 2247 \nL 1259 0 \nL 628 0 \nL 628 4666 \nz\n\" id=\"DejaVuSans-4b\" transform=\"scale(0.015625)\"/>\n       </defs>\n       <use xlink:href=\"#DejaVuSans-4f\"/>\n       <use x=\"78.710938\" xlink:href=\"#DejaVuSans-4b\"/>\n      </g>\n     </g>\n    </g>\n    <g id=\"xtick_2\">\n     <g id=\"line2d_2\">\n      <g>\n       <use style=\"stroke:#000000;stroke-width:0.8;\" x=\"292.54858\" xlink:href=\"#m4199580dd8\" y=\"241.57125\"/>\n      </g>\n     </g>\n     <g id=\"text_2\">\n      <!-- Zu Eng -->\n      <g transform=\"translate(274.863423 256.169687)scale(0.1 -0.1)\">\n       <defs>\n        <path d=\"M 359 4666 \nL 4025 4666 \nL 4025 4184 \nL 1075 531 \nL 4097 531 \nL 4097 0 \nL 288 0 \nL 288 481 \nL 3238 4134 \nL 359 4134 \nL 359 4666 \nz\n\" id=\"DejaVuSans-5a\" transform=\"scale(0.015625)\"/>\n        <path d=\"M 544 1381 \nL 544 3500 \nL 1119 3500 \nL 1119 1403 \nQ 1119 906 1312 657 \nQ 1506 409 1894 409 \nQ 2359 409 2629 706 \nQ 2900 1003 2900 1516 \nL 2900 3500 \nL 3475 3500 \nL 3475 0 \nL 2900 0 \nL 2900 538 \nQ 2691 219 2414 64 \nQ 2138 -91 1772 -91 \nQ 1169 -91 856 284 \nQ 544 659 544 1381 \nz\nM 1991 3584 \nL 1991 3584 \nz\n\" id=\"DejaVuSans-75\" transform=\"scale(0.015625)\"/>\n        <path id=\"DejaVuSans-20\" transform=\"scale(0.015625)\"/>\n        <path d=\"M 628 4666 \nL 3578 4666 \nL 3578 4134 \nL 1259 4134 \nL 1259 2753 \nL 3481 2753 \nL 3481 2222 \nL 1259 2222 \nL 1259 531 \nL 3634 531 \nL 3634 0 \nL 628 0 \nL 628 4666 \nz\n\" id=\"DejaVuSans-45\" transform=\"scale(0.015625)\"/>\n        <path d=\"M 3513 2113 \nL 3513 0 \nL 2938 0 \nL 2938 2094 \nQ 2938 2591 2744 2837 \nQ 2550 3084 2163 3084 \nQ 1697 3084 1428 2787 \nQ 1159 2491 1159 1978 \nL 1159 0 \nL 581 0 \nL 581 3500 \nL 1159 3500 \nL 1159 2956 \nQ 1366 3272 1645 3428 \nQ 1925 3584 2291 3584 \nQ 2894 3584 3203 3211 \nQ 3513 2838 3513 2113 \nz\n\" id=\"DejaVuSans-6e\" transform=\"scale(0.015625)\"/>\n        <path d=\"M 2906 1791 \nQ 2906 2416 2648 2759 \nQ 2391 3103 1925 3103 \nQ 1463 3103 1205 2759 \nQ 947 2416 947 1791 \nQ 947 1169 1205 825 \nQ 1463 481 1925 481 \nQ 2391 481 2648 825 \nQ 2906 1169 2906 1791 \nz\nM 3481 434 \nQ 3481 -459 3084 -895 \nQ 2688 -1331 1869 -1331 \nQ 1566 -1331 1297 -1286 \nQ 1028 -1241 775 -1147 \nL 775 -588 \nQ 1028 -725 1275 -790 \nQ 1522 -856 1778 -856 \nQ 2344 -856 2625 -561 \nQ 2906 -266 2906 331 \nL 2906 616 \nQ 2728 306 2450 153 \nQ 2172 0 1784 0 \nQ 1141 0 747 490 \nQ 353 981 353 1791 \nQ 353 2603 747 3093 \nQ 1141 3584 1784 3584 \nQ 2172 3584 2450 3431 \nQ 2728 3278 2906 2969 \nL 2906 3500 \nL 3481 3500 \nL 3481 434 \nz\n\" id=\"DejaVuSans-67\" transform=\"scale(0.015625)\"/>\n       </defs>\n       <use xlink:href=\"#DejaVuSans-5a\"/>\n       <use x=\"68.505859\" xlink:href=\"#DejaVuSans-75\"/>\n       <use x=\"131.884766\" xlink:href=\"#DejaVuSans-20\"/>\n       <use x=\"163.671875\" xlink:href=\"#DejaVuSans-45\"/>\n       <use x=\"226.855469\" xlink:href=\"#DejaVuSans-6e\"/>\n       <use x=\"290.234375\" xlink:href=\"#DejaVuSans-67\"/>\n      </g>\n     </g>\n    </g>\n    <g id=\"text_3\">\n     <!-- categories -->\n     <g transform=\"translate(181.79375 269.847812)scale(0.1 -0.1)\">\n      <defs>\n       <path d=\"M 3122 3366 \nL 3122 2828 \nQ 2878 2963 2633 3030 \nQ 2388 3097 2138 3097 \nQ 1578 3097 1268 2742 \nQ 959 2388 959 1747 \nQ 959 1106 1268 751 \nQ 1578 397 2138 397 \nQ 2388 397 2633 464 \nQ 2878 531 3122 666 \nL 3122 134 \nQ 2881 22 2623 -34 \nQ 2366 -91 2075 -91 \nQ 1284 -91 818 406 \nQ 353 903 353 1747 \nQ 353 2603 823 3093 \nQ 1294 3584 2113 3584 \nQ 2378 3584 2631 3529 \nQ 2884 3475 3122 3366 \nz\n\" id=\"DejaVuSans-63\" transform=\"scale(0.015625)\"/>\n       <path d=\"M 2194 1759 \nQ 1497 1759 1228 1600 \nQ 959 1441 959 1056 \nQ 959 750 1161 570 \nQ 1363 391 1709 391 \nQ 2188 391 2477 730 \nQ 2766 1069 2766 1631 \nL 2766 1759 \nL 2194 1759 \nz\nM 3341 1997 \nL 3341 0 \nL 2766 0 \nL 2766 531 \nQ 2569 213 2275 61 \nQ 1981 -91 1556 -91 \nQ 1019 -91 701 211 \nQ 384 513 384 1019 \nQ 384 1609 779 1909 \nQ 1175 2209 1959 2209 \nL 2766 2209 \nL 2766 2266 \nQ 2766 2663 2505 2880 \nQ 2244 3097 1772 3097 \nQ 1472 3097 1187 3025 \nQ 903 2953 641 2809 \nL 641 3341 \nQ 956 3463 1253 3523 \nQ 1550 3584 1831 3584 \nQ 2591 3584 2966 3190 \nQ 3341 2797 3341 1997 \nz\n\" id=\"DejaVuSans-61\" transform=\"scale(0.015625)\"/>\n       <path d=\"M 1172 4494 \nL 1172 3500 \nL 2356 3500 \nL 2356 3053 \nL 1172 3053 \nL 1172 1153 \nQ 1172 725 1289 603 \nQ 1406 481 1766 481 \nL 2356 481 \nL 2356 0 \nL 1766 0 \nQ 1100 0 847 248 \nQ 594 497 594 1153 \nL 594 3053 \nL 172 3053 \nL 172 3500 \nL 594 3500 \nL 594 4494 \nL 1172 4494 \nz\n\" id=\"DejaVuSans-74\" transform=\"scale(0.015625)\"/>\n       <path d=\"M 3597 1894 \nL 3597 1613 \nL 953 1613 \nQ 991 1019 1311 708 \nQ 1631 397 2203 397 \nQ 2534 397 2845 478 \nQ 3156 559 3463 722 \nL 3463 178 \nQ 3153 47 2828 -22 \nQ 2503 -91 2169 -91 \nQ 1331 -91 842 396 \nQ 353 884 353 1716 \nQ 353 2575 817 3079 \nQ 1281 3584 2069 3584 \nQ 2775 3584 3186 3129 \nQ 3597 2675 3597 1894 \nz\nM 3022 2063 \nQ 3016 2534 2758 2815 \nQ 2500 3097 2075 3097 \nQ 1594 3097 1305 2825 \nQ 1016 2553 972 2059 \nL 3022 2063 \nz\n\" id=\"DejaVuSans-65\" transform=\"scale(0.015625)\"/>\n       <path d=\"M 1959 3097 \nQ 1497 3097 1228 2736 \nQ 959 2375 959 1747 \nQ 959 1119 1226 758 \nQ 1494 397 1959 397 \nQ 2419 397 2687 759 \nQ 2956 1122 2956 1747 \nQ 2956 2369 2687 2733 \nQ 2419 3097 1959 3097 \nz\nM 1959 3584 \nQ 2709 3584 3137 3096 \nQ 3566 2609 3566 1747 \nQ 3566 888 3137 398 \nQ 2709 -91 1959 -91 \nQ 1206 -91 779 398 \nQ 353 888 353 1747 \nQ 353 2609 779 3096 \nQ 1206 3584 1959 3584 \nz\n\" id=\"DejaVuSans-6f\" transform=\"scale(0.015625)\"/>\n       <path d=\"M 2631 2963 \nQ 2534 3019 2420 3045 \nQ 2306 3072 2169 3072 \nQ 1681 3072 1420 2755 \nQ 1159 2438 1159 1844 \nL 1159 0 \nL 581 0 \nL 581 3500 \nL 1159 3500 \nL 1159 2956 \nQ 1341 3275 1631 3429 \nQ 1922 3584 2338 3584 \nQ 2397 3584 2469 3576 \nQ 2541 3569 2628 3553 \nL 2631 2963 \nz\n\" id=\"DejaVuSans-72\" transform=\"scale(0.015625)\"/>\n       <path d=\"M 603 3500 \nL 1178 3500 \nL 1178 0 \nL 603 0 \nL 603 3500 \nz\nM 603 4863 \nL 1178 4863 \nL 1178 4134 \nL 603 4134 \nL 603 4863 \nz\n\" id=\"DejaVuSans-69\" transform=\"scale(0.015625)\"/>\n       <path d=\"M 2834 3397 \nL 2834 2853 \nQ 2591 2978 2328 3040 \nQ 2066 3103 1784 3103 \nQ 1356 3103 1142 2972 \nQ 928 2841 928 2578 \nQ 928 2378 1081 2264 \nQ 1234 2150 1697 2047 \nL 1894 2003 \nQ 2506 1872 2764 1633 \nQ 3022 1394 3022 966 \nQ 3022 478 2636 193 \nQ 2250 -91 1575 -91 \nQ 1294 -91 989 -36 \nQ 684 19 347 128 \nL 347 722 \nQ 666 556 975 473 \nQ 1284 391 1588 391 \nQ 1994 391 2212 530 \nQ 2431 669 2431 922 \nQ 2431 1156 2273 1281 \nQ 2116 1406 1581 1522 \nL 1381 1569 \nQ 847 1681 609 1914 \nQ 372 2147 372 2553 \nQ 372 3047 722 3315 \nQ 1072 3584 1716 3584 \nQ 2034 3584 2315 3537 \nQ 2597 3491 2834 3397 \nz\n\" id=\"DejaVuSans-73\" transform=\"scale(0.015625)\"/>\n      </defs>\n      <use xlink:href=\"#DejaVuSans-63\"/>\n      <use x=\"54.980469\" xlink:href=\"#DejaVuSans-61\"/>\n      <use x=\"116.259766\" xlink:href=\"#DejaVuSans-74\"/>\n      <use x=\"155.46875\" xlink:href=\"#DejaVuSans-65\"/>\n      <use x=\"216.992188\" xlink:href=\"#DejaVuSans-67\"/>\n      <use x=\"280.46875\" xlink:href=\"#DejaVuSans-6f\"/>\n      <use x=\"341.650391\" xlink:href=\"#DejaVuSans-72\"/>\n      <use x=\"382.763672\" xlink:href=\"#DejaVuSans-69\"/>\n      <use x=\"410.546875\" xlink:href=\"#DejaVuSans-65\"/>\n      <use x=\"472.070312\" xlink:href=\"#DejaVuSans-73\"/>\n     </g>\n    </g>\n   </g>\n   <g id=\"matplotlib.axis_2\">\n    <g id=\"ytick_1\">\n     <g id=\"line2d_3\">\n      <defs>\n       <path d=\"M 0 0 \nL -3.5 0 \n\" id=\"m351f116c46\" style=\"stroke:#000000;stroke-width:0.8;\"/>\n      </defs>\n      <g>\n       <use style=\"stroke:#000000;stroke-width:0.8;\" x=\"40.603125\" xlink:href=\"#m351f116c46\" y=\"241.57125\"/>\n      </g>\n     </g>\n     <g id=\"text_4\">\n      <!-- 0 -->\n      <g transform=\"translate(27.240625 245.370469)scale(0.1 -0.1)\">\n       <defs>\n        <path d=\"M 2034 4250 \nQ 1547 4250 1301 3770 \nQ 1056 3291 1056 2328 \nQ 1056 1369 1301 889 \nQ 1547 409 2034 409 \nQ 2525 409 2770 889 \nQ 3016 1369 3016 2328 \nQ 3016 3291 2770 3770 \nQ 2525 4250 2034 4250 \nz\nM 2034 4750 \nQ 2819 4750 3233 4129 \nQ 3647 3509 3647 2328 \nQ 3647 1150 3233 529 \nQ 2819 -91 2034 -91 \nQ 1250 -91 836 529 \nQ 422 1150 422 2328 \nQ 422 3509 836 4129 \nQ 1250 4750 2034 4750 \nz\n\" id=\"DejaVuSans-30\" transform=\"scale(0.015625)\"/>\n       </defs>\n       <use xlink:href=\"#DejaVuSans-30\"/>\n      </g>\n     </g>\n    </g>\n    <g id=\"ytick_2\">\n     <g id=\"line2d_4\">\n      <g>\n       <use style=\"stroke:#000000;stroke-width:0.8;\" x=\"40.603125\" xlink:href=\"#m351f116c46\" y=\"213.586694\"/>\n      </g>\n     </g>\n     <g id=\"text_5\">\n      <!-- 10 -->\n      <g transform=\"translate(20.878125 217.385913)scale(0.1 -0.1)\">\n       <defs>\n        <path d=\"M 794 531 \nL 1825 531 \nL 1825 4091 \nL 703 3866 \nL 703 4441 \nL 1819 4666 \nL 2450 4666 \nL 2450 531 \nL 3481 531 \nL 3481 0 \nL 794 0 \nL 794 531 \nz\n\" id=\"DejaVuSans-31\" transform=\"scale(0.015625)\"/>\n       </defs>\n       <use xlink:href=\"#DejaVuSans-31\"/>\n       <use x=\"63.623047\" xlink:href=\"#DejaVuSans-30\"/>\n      </g>\n     </g>\n    </g>\n    <g id=\"ytick_3\">\n     <g id=\"line2d_5\">\n      <g>\n       <use style=\"stroke:#000000;stroke-width:0.8;\" x=\"40.603125\" xlink:href=\"#m351f116c46\" y=\"185.602138\"/>\n      </g>\n     </g>\n     <g id=\"text_6\">\n      <!-- 20 -->\n      <g transform=\"translate(20.878125 189.401357)scale(0.1 -0.1)\">\n       <defs>\n        <path d=\"M 1228 531 \nL 3431 531 \nL 3431 0 \nL 469 0 \nL 469 531 \nQ 828 903 1448 1529 \nQ 2069 2156 2228 2338 \nQ 2531 2678 2651 2914 \nQ 2772 3150 2772 3378 \nQ 2772 3750 2511 3984 \nQ 2250 4219 1831 4219 \nQ 1534 4219 1204 4116 \nQ 875 4013 500 3803 \nL 500 4441 \nQ 881 4594 1212 4672 \nQ 1544 4750 1819 4750 \nQ 2544 4750 2975 4387 \nQ 3406 4025 3406 3419 \nQ 3406 3131 3298 2873 \nQ 3191 2616 2906 2266 \nQ 2828 2175 2409 1742 \nQ 1991 1309 1228 531 \nz\n\" id=\"DejaVuSans-32\" transform=\"scale(0.015625)\"/>\n       </defs>\n       <use xlink:href=\"#DejaVuSans-32\"/>\n       <use x=\"63.623047\" xlink:href=\"#DejaVuSans-30\"/>\n      </g>\n     </g>\n    </g>\n    <g id=\"ytick_4\">\n     <g id=\"line2d_6\">\n      <g>\n       <use style=\"stroke:#000000;stroke-width:0.8;\" x=\"40.603125\" xlink:href=\"#m351f116c46\" y=\"157.617582\"/>\n      </g>\n     </g>\n     <g id=\"text_7\">\n      <!-- 30 -->\n      <g transform=\"translate(20.878125 161.416801)scale(0.1 -0.1)\">\n       <defs>\n        <path d=\"M 2597 2516 \nQ 3050 2419 3304 2112 \nQ 3559 1806 3559 1356 \nQ 3559 666 3084 287 \nQ 2609 -91 1734 -91 \nQ 1441 -91 1130 -33 \nQ 819 25 488 141 \nL 488 750 \nQ 750 597 1062 519 \nQ 1375 441 1716 441 \nQ 2309 441 2620 675 \nQ 2931 909 2931 1356 \nQ 2931 1769 2642 2001 \nQ 2353 2234 1838 2234 \nL 1294 2234 \nL 1294 2753 \nL 1863 2753 \nQ 2328 2753 2575 2939 \nQ 2822 3125 2822 3475 \nQ 2822 3834 2567 4026 \nQ 2313 4219 1838 4219 \nQ 1578 4219 1281 4162 \nQ 984 4106 628 3988 \nL 628 4550 \nQ 988 4650 1302 4700 \nQ 1616 4750 1894 4750 \nQ 2613 4750 3031 4423 \nQ 3450 4097 3450 3541 \nQ 3450 3153 3228 2886 \nQ 3006 2619 2597 2516 \nz\n\" id=\"DejaVuSans-33\" transform=\"scale(0.015625)\"/>\n       </defs>\n       <use xlink:href=\"#DejaVuSans-33\"/>\n       <use x=\"63.623047\" xlink:href=\"#DejaVuSans-30\"/>\n      </g>\n     </g>\n    </g>\n    <g id=\"ytick_5\">\n     <g id=\"line2d_7\">\n      <g>\n       <use style=\"stroke:#000000;stroke-width:0.8;\" x=\"40.603125\" xlink:href=\"#m351f116c46\" y=\"129.633026\"/>\n      </g>\n     </g>\n     <g id=\"text_8\">\n      <!-- 40 -->\n      <g transform=\"translate(20.878125 133.432245)scale(0.1 -0.1)\">\n       <defs>\n        <path d=\"M 2419 4116 \nL 825 1625 \nL 2419 1625 \nL 2419 4116 \nz\nM 2253 4666 \nL 3047 4666 \nL 3047 1625 \nL 3713 1625 \nL 3713 1100 \nL 3047 1100 \nL 3047 0 \nL 2419 0 \nL 2419 1100 \nL 313 1100 \nL 313 1709 \nL 2253 4666 \nz\n\" id=\"DejaVuSans-34\" transform=\"scale(0.015625)\"/>\n       </defs>\n       <use xlink:href=\"#DejaVuSans-34\"/>\n       <use x=\"63.623047\" xlink:href=\"#DejaVuSans-30\"/>\n      </g>\n     </g>\n    </g>\n    <g id=\"ytick_6\">\n     <g id=\"line2d_8\">\n      <g>\n       <use style=\"stroke:#000000;stroke-width:0.8;\" x=\"40.603125\" xlink:href=\"#m351f116c46\" y=\"101.64847\"/>\n      </g>\n     </g>\n     <g id=\"text_9\">\n      <!-- 50 -->\n      <g transform=\"translate(20.878125 105.447689)scale(0.1 -0.1)\">\n       <defs>\n        <path d=\"M 691 4666 \nL 3169 4666 \nL 3169 4134 \nL 1269 4134 \nL 1269 2991 \nQ 1406 3038 1543 3061 \nQ 1681 3084 1819 3084 \nQ 2600 3084 3056 2656 \nQ 3513 2228 3513 1497 \nQ 3513 744 3044 326 \nQ 2575 -91 1722 -91 \nQ 1428 -91 1123 -41 \nQ 819 9 494 109 \nL 494 744 \nQ 775 591 1075 516 \nQ 1375 441 1709 441 \nQ 2250 441 2565 725 \nQ 2881 1009 2881 1497 \nQ 2881 1984 2565 2268 \nQ 2250 2553 1709 2553 \nQ 1456 2553 1204 2497 \nQ 953 2441 691 2322 \nL 691 4666 \nz\n\" id=\"DejaVuSans-35\" transform=\"scale(0.015625)\"/>\n       </defs>\n       <use xlink:href=\"#DejaVuSans-35\"/>\n       <use x=\"63.623047\" xlink:href=\"#DejaVuSans-30\"/>\n      </g>\n     </g>\n    </g>\n    <g id=\"ytick_7\">\n     <g id=\"line2d_9\">\n      <g>\n       <use style=\"stroke:#000000;stroke-width:0.8;\" x=\"40.603125\" xlink:href=\"#m351f116c46\" y=\"73.663914\"/>\n      </g>\n     </g>\n     <g id=\"text_10\">\n      <!-- 60 -->\n      <g transform=\"translate(20.878125 77.463133)scale(0.1 -0.1)\">\n       <defs>\n        <path d=\"M 2113 2584 \nQ 1688 2584 1439 2293 \nQ 1191 2003 1191 1497 \nQ 1191 994 1439 701 \nQ 1688 409 2113 409 \nQ 2538 409 2786 701 \nQ 3034 994 3034 1497 \nQ 3034 2003 2786 2293 \nQ 2538 2584 2113 2584 \nz\nM 3366 4563 \nL 3366 3988 \nQ 3128 4100 2886 4159 \nQ 2644 4219 2406 4219 \nQ 1781 4219 1451 3797 \nQ 1122 3375 1075 2522 \nQ 1259 2794 1537 2939 \nQ 1816 3084 2150 3084 \nQ 2853 3084 3261 2657 \nQ 3669 2231 3669 1497 \nQ 3669 778 3244 343 \nQ 2819 -91 2113 -91 \nQ 1303 -91 875 529 \nQ 447 1150 447 2328 \nQ 447 3434 972 4092 \nQ 1497 4750 2381 4750 \nQ 2619 4750 2861 4703 \nQ 3103 4656 3366 4563 \nz\n\" id=\"DejaVuSans-36\" transform=\"scale(0.015625)\"/>\n       </defs>\n       <use xlink:href=\"#DejaVuSans-36\"/>\n       <use x=\"63.623047\" xlink:href=\"#DejaVuSans-30\"/>\n      </g>\n     </g>\n    </g>\n    <g id=\"ytick_8\">\n     <g id=\"line2d_10\">\n      <g>\n       <use style=\"stroke:#000000;stroke-width:0.8;\" x=\"40.603125\" xlink:href=\"#m351f116c46\" y=\"45.679358\"/>\n      </g>\n     </g>\n     <g id=\"text_11\">\n      <!-- 70 -->\n      <g transform=\"translate(20.878125 49.478577)scale(0.1 -0.1)\">\n       <defs>\n        <path d=\"M 525 4666 \nL 3525 4666 \nL 3525 4397 \nL 1831 0 \nL 1172 0 \nL 2766 4134 \nL 525 4134 \nL 525 4666 \nz\n\" id=\"DejaVuSans-37\" transform=\"scale(0.015625)\"/>\n       </defs>\n       <use xlink:href=\"#DejaVuSans-37\"/>\n       <use x=\"63.623047\" xlink:href=\"#DejaVuSans-30\"/>\n      </g>\n     </g>\n    </g>\n    <g id=\"text_12\">\n     <!-- values -->\n     <g transform=\"translate(14.798438 149.11375)rotate(-90)scale(0.1 -0.1)\">\n      <defs>\n       <path d=\"M 191 3500 \nL 800 3500 \nL 1894 563 \nL 2988 3500 \nL 3597 3500 \nL 2284 0 \nL 1503 0 \nL 191 3500 \nz\n\" id=\"DejaVuSans-76\" transform=\"scale(0.015625)\"/>\n       <path d=\"M 603 4863 \nL 1178 4863 \nL 1178 0 \nL 603 0 \nL 603 4863 \nz\n\" id=\"DejaVuSans-6c\" transform=\"scale(0.015625)\"/>\n      </defs>\n      <use xlink:href=\"#DejaVuSans-76\"/>\n      <use x=\"59.179688\" xlink:href=\"#DejaVuSans-61\"/>\n      <use x=\"120.458984\" xlink:href=\"#DejaVuSans-6c\"/>\n      <use x=\"148.242188\" xlink:href=\"#DejaVuSans-75\"/>\n      <use x=\"211.621094\" xlink:href=\"#DejaVuSans-65\"/>\n      <use x=\"273.144531\" xlink:href=\"#DejaVuSans-73\"/>\n     </g>\n    </g>\n   </g>\n   <g id=\"patch_5\">\n    <path d=\"M 40.603125 241.57125 \nL 40.603125 24.13125 \n\" style=\"fill:none;stroke:#000000;stroke-linecap:square;stroke-linejoin:miter;stroke-width:0.8;\"/>\n   </g>\n   <g id=\"patch_6\">\n    <path d=\"M 375.403125 241.57125 \nL 375.403125 24.13125 \n\" style=\"fill:none;stroke:#000000;stroke-linecap:square;stroke-linejoin:miter;stroke-width:0.8;\"/>\n   </g>\n   <g id=\"patch_7\">\n    <path d=\"M 40.603125 241.57125 \nL 375.403125 241.57125 \n\" style=\"fill:none;stroke:#000000;stroke-linecap:square;stroke-linejoin:miter;stroke-width:0.8;\"/>\n   </g>\n   <g id=\"patch_8\">\n    <path d=\"M 40.603125 24.13125 \nL 375.403125 24.13125 \n\" style=\"fill:none;stroke:#000000;stroke-linecap:square;stroke-linejoin:miter;stroke-width:0.8;\"/>\n   </g>\n   <g id=\"text_13\">\n    <!-- Übersicht Überholungen -->\n    <g transform=\"translate(135.188437 18.13125)scale(0.12 -0.12)\">\n     <defs>\n      <path d=\"M 556 4666 \nL 1191 4666 \nL 1191 1831 \nQ 1191 1081 1462 751 \nQ 1734 422 2344 422 \nQ 2950 422 3222 751 \nQ 3494 1081 3494 1831 \nL 3494 4666 \nL 4128 4666 \nL 4128 1753 \nQ 4128 841 3676 375 \nQ 3225 -91 2344 -91 \nQ 1459 -91 1007 375 \nQ 556 841 556 1753 \nL 556 4666 \nz\nM 2638 5830 \nL 3272 5830 \nL 3272 5196 \nL 2638 5196 \nL 2638 5830 \nz\nM 1416 5830 \nL 2050 5830 \nL 2050 5196 \nL 1416 5196 \nL 1416 5830 \nz\n\" id=\"DejaVuSans-dc\" transform=\"scale(0.015625)\"/>\n      <path d=\"M 3116 1747 \nQ 3116 2381 2855 2742 \nQ 2594 3103 2138 3103 \nQ 1681 3103 1420 2742 \nQ 1159 2381 1159 1747 \nQ 1159 1113 1420 752 \nQ 1681 391 2138 391 \nQ 2594 391 2855 752 \nQ 3116 1113 3116 1747 \nz\nM 1159 2969 \nQ 1341 3281 1617 3432 \nQ 1894 3584 2278 3584 \nQ 2916 3584 3314 3078 \nQ 3713 2572 3713 1747 \nQ 3713 922 3314 415 \nQ 2916 -91 2278 -91 \nQ 1894 -91 1617 61 \nQ 1341 213 1159 525 \nL 1159 0 \nL 581 0 \nL 581 4863 \nL 1159 4863 \nL 1159 2969 \nz\n\" id=\"DejaVuSans-62\" transform=\"scale(0.015625)\"/>\n      <path d=\"M 3513 2113 \nL 3513 0 \nL 2938 0 \nL 2938 2094 \nQ 2938 2591 2744 2837 \nQ 2550 3084 2163 3084 \nQ 1697 3084 1428 2787 \nQ 1159 2491 1159 1978 \nL 1159 0 \nL 581 0 \nL 581 4863 \nL 1159 4863 \nL 1159 2956 \nQ 1366 3272 1645 3428 \nQ 1925 3584 2291 3584 \nQ 2894 3584 3203 3211 \nQ 3513 2838 3513 2113 \nz\n\" id=\"DejaVuSans-68\" transform=\"scale(0.015625)\"/>\n     </defs>\n     <use xlink:href=\"#DejaVuSans-dc\"/>\n     <use x=\"73.193359\" xlink:href=\"#DejaVuSans-62\"/>\n     <use x=\"136.669922\" xlink:href=\"#DejaVuSans-65\"/>\n     <use x=\"198.193359\" xlink:href=\"#DejaVuSans-72\"/>\n     <use x=\"239.306641\" xlink:href=\"#DejaVuSans-73\"/>\n     <use x=\"291.40625\" xlink:href=\"#DejaVuSans-69\"/>\n     <use x=\"319.189453\" xlink:href=\"#DejaVuSans-63\"/>\n     <use x=\"374.169922\" xlink:href=\"#DejaVuSans-68\"/>\n     <use x=\"437.548828\" xlink:href=\"#DejaVuSans-74\"/>\n     <use x=\"476.757812\" xlink:href=\"#DejaVuSans-20\"/>\n     <use x=\"508.544922\" xlink:href=\"#DejaVuSans-dc\"/>\n     <use x=\"581.738281\" xlink:href=\"#DejaVuSans-62\"/>\n     <use x=\"645.214844\" xlink:href=\"#DejaVuSans-65\"/>\n     <use x=\"706.738281\" xlink:href=\"#DejaVuSans-72\"/>\n     <use x=\"746.101562\" xlink:href=\"#DejaVuSans-68\"/>\n     <use x=\"809.480469\" xlink:href=\"#DejaVuSans-6f\"/>\n     <use x=\"870.662109\" xlink:href=\"#DejaVuSans-6c\"/>\n     <use x=\"898.445312\" xlink:href=\"#DejaVuSans-75\"/>\n     <use x=\"961.824219\" xlink:href=\"#DejaVuSans-6e\"/>\n     <use x=\"1025.203125\" xlink:href=\"#DejaVuSans-67\"/>\n     <use x=\"1088.679688\" xlink:href=\"#DejaVuSans-65\"/>\n     <use x=\"1150.203125\" xlink:href=\"#DejaVuSans-6e\"/>\n    </g>\n   </g>\n  </g>\n </g>\n <defs>\n  <clipPath id=\"p25b93109e4\">\n   <rect height=\"217.44\" width=\"334.8\" x=\"40.603125\" y=\"24.13125\"/>\n  </clipPath>\n </defs>\n</svg>\n",
      "image/png": "[encoded data removed]"
     },
     "metadata": {
      "needs_background": "light"
     }
    }
   ],
   "source": [
    "anzahl_alle_ueberholungen = obs_messdaten[\"abstand_links\"].count()\n",
    "\n",
    "# Filtern aller Messdaten mit Überholabständen unter 1.5 Meter\n",
    "zu_enge_ueberholungen = obs_messdaten[obs_messdaten[\"abstand_links\"] < 1.5]\n",
    "anzahl_zu_enge_ueberholungen = zu_enge_ueberholungen[\"abstand_links\"].count()\n",
    "\n",
    "anzahl_OK_ueberholungen = anzahl_alle_ueberholungen - anzahl_zu_enge_ueberholungen\n",
    "\n",
    "\n",
    "# Wie viele sind das eigentlich? \n",
    "print(\"So viele Überholungen waren zu eng\", anzahl_zu_enge_ueberholungen)\n",
    "print(\"So viele Überholungen gab es insgesamt\", anzahl_alle_ueberholungen)\n",
    "print(\"So viele Überholungen waren nicht zu eng\", anzahl_OK_ueberholungen)\n",
    "\n",
    "print(f'Der Überholabstand im Durchschnitt {round(obs_messdaten[\"abstand_links\"].mean(), 2)} meter' )\n",
    "\n",
    "# create dataset\n",
    "bars = ('OK', 'Zu Eng')\n",
    "x_pos = np.arange(len(bars))\n",
    " \n",
    "# Create bars and choose color\n",
    "plt.bar(x_pos, [anzahl_OK_ueberholungen, anzahl_zu_enge_ueberholungen], color = (0.5,0.1,0.5,0.6))\n",
    " \n",
    "# Add title and axis names\n",
    "plt.title('Übersicht Überholungen')\n",
    "plt.xlabel('categories')\n",
    "plt.ylabel('values')\n",
    " \n",
    "# Create names on the x axis\n",
    "plt.xticks(x_pos, bars)\n",
    " \n",
    "# Show graph\n",
    "plt.show()"
   ]
  },
  {
   "cell_type": "code",
   "execution_count": 9,
   "id": "86888e3a",
   "metadata": {},
   "outputs": [
    {
     "output_type": "stream",
     "name": "stdout",
     "text": [
      "Bei 57 % Überholungen war auch rechts kein Platz\n"
     ]
    }
   ],
   "source": [
    "# Frage: Bei wie viel % der zu engen überholungen war auch rechts kein platz?\n",
    "auch_rechts_kein_platz = zu_enge_ueberholungen[zu_enge_ueberholungen[\"abstand_rechts\"] < 1.5]\n",
    "anzahl_auch_rechts_kein_platz = auch_rechts_kein_platz[\"abstand_rechts\"].count()\n",
    "prozent = round((anzahl_auch_rechts_kein_platz / anzahl_zu_enge_ueberholungen) * 100)\n",
    "print(f\"Bei {prozent} % Überholungen war auch rechts kein Platz\")\n",
    "\n",
    "\n",
    "\n"
   ]
  },
  {
   "source": [
    "![Dooring](img/dooring.jpg)\n",
    "\n"
   ],
   "cell_type": "markdown",
   "metadata": {}
  },
  {
   "source": [
    "## Frage : Wird enger überholt, wenn es Parkplätze an der Seite gibt? \n",
    "\n",
    "### Ansatz zur Berechnung: \n",
    "    1) Wir blasen die Messpunkte zu Kreisen mit 3meter Durchmesser auf\n",
    "    2) Wir schauen wie viele dieser Messpunkte sich mit Parkplätzen überschneiden\n",
    "    \n",
    "![Messpunkte und Parklätze](img/buffer.png)\n"
   ],
   "cell_type": "markdown",
   "metadata": {}
  },
  {
   "cell_type": "code",
   "execution_count": 10,
   "id": "f2bd167c",
   "metadata": {},
   "outputs": [
    {
     "output_type": "error",
     "ename": "FileNotFoundError",
     "evalue": "[Errno 2] No such file or directory: 'obs_messdaten_wilhelmsburg.json'",
     "traceback": [
      "\u001b[0;31m---------------------------------------------------------------------------\u001b[0m",
      "\u001b[0;31mFileNotFoundError\u001b[0m                         Traceback (most recent call last)",
      "\u001b[0;32m/tmp/ipykernel_13889/1413243866.py\u001b[0m in \u001b[0;36m<module>\u001b[0;34m\u001b[0m\n\u001b[1;32m      3\u001b[0m \u001b[0;34m\u001b[0m\u001b[0m\n\u001b[1;32m      4\u001b[0m \u001b[0;31m# 1) Aufblasen der Messpunkte zu Kreisen mit Durchmesser von 2metern\u001b[0m\u001b[0;34m\u001b[0m\u001b[0;34m\u001b[0m\u001b[0m\n\u001b[0;32m----> 5\u001b[0;31m \u001b[0mmessdaten\u001b[0m \u001b[0;34m=\u001b[0m \u001b[0mlade_daten\u001b[0m\u001b[0;34m(\u001b[0m\u001b[0;34m\"obs_messdaten_wilhelmsburg.json\"\u001b[0m\u001b[0;34m)\u001b[0m\u001b[0;34m.\u001b[0m\u001b[0mto_crs\u001b[0m\u001b[0;34m(\u001b[0m\u001b[0;34m\"EPSG:25832\"\u001b[0m\u001b[0;34m)\u001b[0m \u001b[0;31m# zuerst in metrische Koordinaten umwandeln\u001b[0m\u001b[0;34m\u001b[0m\u001b[0;34m\u001b[0m\u001b[0m\n\u001b[0m\u001b[1;32m      6\u001b[0m \u001b[0mmesspunkte\u001b[0m \u001b[0;34m=\u001b[0m \u001b[0mmessdaten\u001b[0m\u001b[0;34m.\u001b[0m\u001b[0mcopy\u001b[0m\u001b[0;34m(\u001b[0m\u001b[0;34m)\u001b[0m\u001b[0;34m\u001b[0m\u001b[0;34m\u001b[0m\u001b[0m\n\u001b[1;32m      7\u001b[0m \u001b[0mmesspunkte\u001b[0m\u001b[0;34m[\u001b[0m\u001b[0;34m'geometry'\u001b[0m\u001b[0;34m]\u001b[0m \u001b[0;34m=\u001b[0m \u001b[0mmesspunkte\u001b[0m\u001b[0;34m.\u001b[0m\u001b[0mgeometry\u001b[0m\u001b[0;34m.\u001b[0m\u001b[0mbuffer\u001b[0m\u001b[0;34m(\u001b[0m\u001b[0;36m3\u001b[0m\u001b[0;34m)\u001b[0m\u001b[0;34m\u001b[0m\u001b[0;34m\u001b[0m\u001b[0m\n",
      "\u001b[0;32m/tmp/ipykernel_13889/3461463627.py\u001b[0m in \u001b[0;36mlade_daten\u001b[0;34m(dateiname)\u001b[0m\n\u001b[1;32m      1\u001b[0m \u001b[0;31m# Zentrale Funktion zum Laden von Daten\u001b[0m\u001b[0;34m\u001b[0m\u001b[0;34m\u001b[0m\u001b[0m\n\u001b[1;32m      2\u001b[0m \u001b[0;32mdef\u001b[0m \u001b[0mlade_daten\u001b[0m\u001b[0;34m(\u001b[0m\u001b[0mdateiname\u001b[0m\u001b[0;34m)\u001b[0m \u001b[0;34m->\u001b[0m \u001b[0mgeopandas\u001b[0m\u001b[0;34m.\u001b[0m\u001b[0mGeoDataFrame\u001b[0m\u001b[0;34m:\u001b[0m\u001b[0;34m\u001b[0m\u001b[0;34m\u001b[0m\u001b[0m\n\u001b[0;32m----> 3\u001b[0;31m     \u001b[0;32mwith\u001b[0m \u001b[0mopen\u001b[0m\u001b[0;34m(\u001b[0m\u001b[0mdateiname\u001b[0m\u001b[0;34m,\u001b[0m \u001b[0;34m\"r\"\u001b[0m\u001b[0;34m)\u001b[0m \u001b[0;32mas\u001b[0m \u001b[0mf\u001b[0m\u001b[0;34m:\u001b[0m\u001b[0;34m\u001b[0m\u001b[0;34m\u001b[0m\u001b[0m\n\u001b[0m\u001b[1;32m      4\u001b[0m         \u001b[0mgeojson\u001b[0m \u001b[0;34m=\u001b[0m \u001b[0mjson\u001b[0m\u001b[0;34m.\u001b[0m\u001b[0mload\u001b[0m\u001b[0;34m(\u001b[0m\u001b[0mf\u001b[0m\u001b[0;34m)\u001b[0m\u001b[0;34m\u001b[0m\u001b[0;34m\u001b[0m\u001b[0m\n\u001b[1;32m      5\u001b[0m \u001b[0;34m\u001b[0m\u001b[0m\n",
      "\u001b[0;31mFileNotFoundError\u001b[0m: [Errno 2] No such file or directory: 'obs_messdaten_wilhelmsburg.json'"
     ]
    }
   ],
   "source": [
    "parkplatz = parkplatz.to_crs(\"EPSG:25832\")    #  Parkplätze zuerst in metrische Koordinaten umwandeln\n",
    "\n",
    "\n",
    "# 1) Aufblasen der Messpunkte zu Kreisen mit Durchmesser von 2metern\n",
    "messdaten = lade_daten(\"wilhelmsburg_data/obs_messdaten_wilhelmsburg.json\").to_crs(\"EPSG:25832\") # zuerst in metrische Koordinaten umwandeln\n",
    "messpunkte = messdaten.copy()\n",
    "messpunkte['geometry'] = messpunkte.geometry.buffer(3)\n",
    "\n",
    "\n",
    "# 2) Filtern der Messpunkte, die innerhalb der vergrößerten Parkplatzflächen liegen\n",
    "\n",
    "# Dazu Datensets von Messdaten und Parkplätzen kombinieren\n",
    "messdaten_und_parkplaetze = messpunkte.sjoin(parkplatz, how=\"left\")\n",
    "ueberholungen_bei_parkplaetzen = messdaten_und_parkplaetze[messdaten_und_parkplaetze[\"nutzung\"] == \"Parkplatz\"]\n",
    "ueberholungen_bei_parkplaetzen = ueberholungen_bei_parkplaetzen.drop_duplicates([\"time\"])\n",
    "\n",
    "\n",
    "# 3) Auswertung\n",
    "# Wie oft wurde in der Nähe von Parkplätzen zu eng überholt?\n",
    "zu_enge_ueberholungen_bei_parkplaetzen = ueberholungen_bei_parkplaetzen[ueberholungen_bei_parkplaetzen[\"abstand_links\"] < 1.5]\n",
    "\n",
    "# Wenn ein Parkplatz in der Nähe ist - Ist dann die Wahrscheinlichkeit größer, das eng überholt wird?\n",
    "anzahl_ueberholungen_bei_parkplaetzen = ueberholungen_bei_parkplaetzen[\"abstand_links\"].count()\n",
    "anzahl_zu_enge_ueberholungen_bei_parkplaetzen = zu_enge_ueberholungen_bei_parkplaetzen[\"abstand_links\"].count()\n",
    "prozent = round((anzahl_zu_enge_ueberholungen_bei_parkplaetzen / anzahl_ueberholungen_bei_parkplaetzen) * 100)\n",
    "print(f\"{prozent} % der Überholungen neben Parkplätzen waren zu eng.\")\n",
    "\n",
    "\n",
    "# Aber ist ein Parkplatz in der Nähe ein Voraussetzung dafür, dass zu eng überholt wird?\n",
    "print(\"Zu enge Überholungen insgesamt\" , anzahl_zu_enge_ueberholungen)\n",
    "print(\"Bei Parkplätzen\", anzahl_zu_enge_ueberholungen_bei_parkplaetzen)\n",
    "# Es wird also auch eng überholt, wenn keine Parkplätze in der Nähe sind \n",
    "\n"
   ]
  },
  {
   "source": [
    "## Überholt werden neben einem parkenden Auto\n",
    "### Wie fühlt ihr Euch dabei?\n",
    "![cars](img/cars.gif)"
   ],
   "cell_type": "markdown",
   "metadata": {}
  },
  {
   "cell_type": "code",
   "execution_count": 1,
   "id": "48c8302e",
   "metadata": {},
   "outputs": [
    {
     "output_type": "error",
     "ename": "NameError",
     "evalue": "name 'lade_daten' is not defined",
     "traceback": [
      "\u001b[0;31m---------------------------------------------------------------------------\u001b[0m",
      "\u001b[0;31mNameError\u001b[0m                                 Traceback (most recent call last)",
      "\u001b[0;32m/tmp/ipykernel_13889/1312298517.py\u001b[0m in \u001b[0;36m<module>\u001b[0;34m\u001b[0m\n\u001b[1;32m      2\u001b[0m \u001b[0;34m\u001b[0m\u001b[0m\n\u001b[1;32m      3\u001b[0m \u001b[0;31m# Aufblasen der Messpunkte zu Kreisen mit Durchmesser von 2metern\u001b[0m\u001b[0;34m\u001b[0m\u001b[0;34m\u001b[0m\u001b[0m\n\u001b[0;32m----> 4\u001b[0;31m \u001b[0mmessdaten\u001b[0m \u001b[0;34m=\u001b[0m \u001b[0mlade_daten\u001b[0m\u001b[0;34m(\u001b[0m\u001b[0;34m\"obs_messdaten_wilhelmsburg.json\"\u001b[0m\u001b[0;34m)\u001b[0m\u001b[0;34m.\u001b[0m\u001b[0mto_crs\u001b[0m\u001b[0;34m(\u001b[0m\u001b[0;34m\"EPSG:25832\"\u001b[0m\u001b[0;34m)\u001b[0m \u001b[0;31m# zuerst in metrische Koordinaten umwandeln\u001b[0m\u001b[0;34m\u001b[0m\u001b[0;34m\u001b[0m\u001b[0m\n\u001b[0m\u001b[1;32m      5\u001b[0m \u001b[0mmesspunkte\u001b[0m \u001b[0;34m=\u001b[0m \u001b[0mmessdaten\u001b[0m\u001b[0;34m.\u001b[0m\u001b[0mcopy\u001b[0m\u001b[0;34m(\u001b[0m\u001b[0;34m)\u001b[0m\u001b[0;34m\u001b[0m\u001b[0;34m\u001b[0m\u001b[0m\n\u001b[1;32m      6\u001b[0m \u001b[0mmesspunkte\u001b[0m\u001b[0;34m[\u001b[0m\u001b[0;34m'geometry'\u001b[0m\u001b[0;34m]\u001b[0m \u001b[0;34m=\u001b[0m \u001b[0mmesspunkte\u001b[0m\u001b[0;34m.\u001b[0m\u001b[0mgeometry\u001b[0m\u001b[0;34m.\u001b[0m\u001b[0mbuffer\u001b[0m\u001b[0;34m(\u001b[0m\u001b[0;36m15\u001b[0m\u001b[0;34m)\u001b[0m\u001b[0;34m\u001b[0m\u001b[0;34m\u001b[0m\u001b[0m\n",
      "\u001b[0;31mNameError\u001b[0m: name 'lade_daten' is not defined"
     ]
    }
   ],
   "source": [
    "# Bei wie vielen zu engen Überholungen war kein Fahrradweg in der Nähe?\n",
    "\n",
    "# Aufblasen der Messpunkte zu Kreisen mit Durchmesser von 2metern\n",
    "messdaten = lade_daten(\"obs_messdaten_wilhelmsburg.json\").to_crs(\"EPSG:25832\") # zuerst in metrische Koordinaten umwandeln\n",
    "messpunkte = messdaten.copy()\n",
    "messpunkte['geometry'] = messpunkte.geometry.buffer(15)\n",
    "\n",
    "# Filtern der Messpunkte, die innerhalb der vergrößerten Parkplatzflächen liegen\n",
    "radwege = radwege.to_crs(\"EPSG:25832\")    # zuerst in metrische Koordinaten umwandeln\n",
    "\n",
    "# Datensets von Messdaten und Parkplätzen kombinieren\n",
    "messpunnkte_und_radwege = messpunkte.sjoin(radwege, how=\"left\")\n",
    "ueberholungen_bei_radwegen = messpunnkte_und_radwege[messpunnkte_und_radwege[\"nutzung\"] == \"Radweg\"]\n",
    "ueberholungen_bei_radwegen = ueberholungen_bei_radwegen.drop_duplicates([\"time\"])\n",
    "\n",
    "\n",
    "# Wie oft wurde in der Nähe von Radwegen zu eng überholt?\n",
    "zu_enge_ueberholungen_bei_radwegen = ueberholungen_bei_radwegen[ueberholungen_bei_radwegen[\"abstand_links\"] < 1.5]\n",
    "\n",
    "# Wenn ein Radweg in der Nähe ist - Ist dann die Wahrscheinlichkeit kleiner, das eng überholt wird?\n",
    "anzahl_alle_ueberholungen_bei_radwegen = ueberholungen_bei_radwegen[\"abstand_links\"].count()\n",
    "anzahl_zu_enge_ueberholungen_bei_radwegen = zu_enge_ueberholungen_bei_radwegen[\"abstand_links\"].count()\n",
    "prozent = round((anzahl_zu_enge_ueberholungen_bei_radwegen / anzahl_alle_ueberholungen_bei_radwegen) * 100)\n",
    "print(prozent)\n",
    "\n",
    "\n",
    "# Aber ist ein Parkplatz in der Nähe ein Voraussetzung dafür, dass zu eng überholt wird?\n",
    "print(\"Zu enge Überholungen insgesamt\" , anzahl_zu_enge_ueberholungen)\n",
    "print(\"Bei Radwegen\", anzahl_zu_enge_ueberholungen_bei_radwegen)\n"
   ]
  },
  {
   "cell_type": "code",
   "execution_count": null,
   "id": "1949f444",
   "metadata": {},
   "outputs": [],
   "source": []
  },
  {
   "cell_type": "code",
   "execution_count": null,
   "id": "bbe3cd16",
   "metadata": {},
   "outputs": [],
   "source": []
  },
  {
   "cell_type": "code",
   "execution_count": null,
   "id": "f2350a4d",
   "metadata": {},
   "outputs": [],
   "source": []
  },
  {
   "cell_type": "code",
   "execution_count": null,
   "id": "f8e185c3",
   "metadata": {},
   "outputs": [],
   "source": []
  }
 ],
 "metadata": {
  "kernelspec": {
   "name": "python3",
   "display_name": "Python 3 (ipykernel)",
   "language": "python"
  },
  "language_info": {
   "codemirror_mode": {
    "name": "ipython",
    "version": 3
   },
   "file_extension": ".py",
   "mimetype": "text/x-python",
   "name": "python",
   "nbconvert_exporter": "python",
   "pygments_lexer": "ipython3",
   "version": "3.9.7"
  }
 },
 "nbformat": 4,
 "nbformat_minor": 5
}